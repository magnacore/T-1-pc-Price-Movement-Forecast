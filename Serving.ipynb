{
 "cells": [
  {
   "cell_type": "code",
   "execution_count": 1,
   "metadata": {},
   "outputs": [],
   "source": [
    "import numpy as np\n",
    "import pandas as pd\n",
    "import matplotlib.pyplot as plt\n",
    "from scipy.stats import norm, gmean, cauchy\n",
    "import seaborn as sns\n",
    "from datetime import datetime, timedelta\n",
    "\n",
    "import tensorflow as tf\n",
    "from tensorflow.keras.models import Sequential\n",
    "from tensorflow.keras.layers import LSTM, Dense, Dropout, Bidirectional\n",
    "from tensorflow.keras.callbacks import ModelCheckpoint, TensorBoard, EarlyStopping\n",
    "from tensorflow.keras.preprocessing.sequence import TimeseriesGenerator\n",
    "from sklearn import preprocessing\n",
    "from sklearn.model_selection import train_test_split\n",
    "from sklearn.metrics import accuracy_score\n",
    "from sklearn.preprocessing import MinMaxScaler"
   ]
  },
  {
   "cell_type": "code",
   "execution_count": 3,
   "metadata": {},
   "outputs": [],
   "source": [
    "length = 90 # Length of the output sequences (in number of timesteps)"
   ]
  },
  {
   "cell_type": "code",
   "execution_count": 4,
   "metadata": {},
   "outputs": [],
   "source": [
    "def import_stock_data(tickers, start_date, end_date = datetime.today()):  \n",
    "    if len([tickers]) == 1:\n",
    "        # Import get_history function from nsepy module\n",
    "        from nsepy import get_history\n",
    "\n",
    "        data = get_history(symbol=tickers[0],\n",
    "                        start=start_date,\n",
    "                        end=end_date,\n",
    "                        futures=False,\n",
    "                        index=True)\n",
    "    return(data)"
   ]
  },
  {
   "cell_type": "code",
   "execution_count": 5,
   "metadata": {},
   "outputs": [],
   "source": [
    "end = datetime.today()\n",
    "start = end - timedelta(days=length*2)"
   ]
  },
  {
   "cell_type": "code",
   "execution_count": 6,
   "metadata": {},
   "outputs": [],
   "source": [
    "data = import_stock_data(['NIFTY'], start_date=start, end_date=end)"
   ]
  },
  {
   "cell_type": "code",
   "execution_count": 7,
   "metadata": {},
   "outputs": [
    {
     "data": {
      "text/html": [
       "<div>\n",
       "<style scoped>\n",
       "    .dataframe tbody tr th:only-of-type {\n",
       "        vertical-align: middle;\n",
       "    }\n",
       "\n",
       "    .dataframe tbody tr th {\n",
       "        vertical-align: top;\n",
       "    }\n",
       "\n",
       "    .dataframe thead th {\n",
       "        text-align: right;\n",
       "    }\n",
       "</style>\n",
       "<table border=\"1\" class=\"dataframe\">\n",
       "  <thead>\n",
       "    <tr style=\"text-align: right;\">\n",
       "      <th></th>\n",
       "      <th>Open</th>\n",
       "      <th>High</th>\n",
       "      <th>Low</th>\n",
       "      <th>Close</th>\n",
       "      <th>Volume</th>\n",
       "      <th>Turnover</th>\n",
       "    </tr>\n",
       "  </thead>\n",
       "  <tbody>\n",
       "    <tr>\n",
       "      <th>count</th>\n",
       "      <td>126.000000</td>\n",
       "      <td>126.000000</td>\n",
       "      <td>126.000000</td>\n",
       "      <td>126.000000</td>\n",
       "      <td>1.260000e+02</td>\n",
       "      <td>1.260000e+02</td>\n",
       "    </tr>\n",
       "    <tr>\n",
       "      <th>mean</th>\n",
       "      <td>12923.219444</td>\n",
       "      <td>12987.894048</td>\n",
       "      <td>12819.571032</td>\n",
       "      <td>12913.230556</td>\n",
       "      <td>6.247619e+08</td>\n",
       "      <td>3.519497e+11</td>\n",
       "    </tr>\n",
       "    <tr>\n",
       "      <th>std</th>\n",
       "      <td>1311.361669</td>\n",
       "      <td>1318.252182</td>\n",
       "      <td>1302.971860</td>\n",
       "      <td>1314.725975</td>\n",
       "      <td>1.563274e+08</td>\n",
       "      <td>8.848450e+10</td>\n",
       "    </tr>\n",
       "    <tr>\n",
       "      <th>min</th>\n",
       "      <td>10910.400000</td>\n",
       "      <td>11015.300000</td>\n",
       "      <td>10790.200000</td>\n",
       "      <td>10805.550000</td>\n",
       "      <td>1.078681e+08</td>\n",
       "      <td>5.189380e+10</td>\n",
       "    </tr>\n",
       "    <tr>\n",
       "      <th>25%</th>\n",
       "      <td>11678.650000</td>\n",
       "      <td>11745.350000</td>\n",
       "      <td>11570.575000</td>\n",
       "      <td>11664.087500</td>\n",
       "      <td>5.285029e+08</td>\n",
       "      <td>2.945594e+11</td>\n",
       "    </tr>\n",
       "    <tr>\n",
       "      <th>50%</th>\n",
       "      <td>12883.275000</td>\n",
       "      <td>12955.925000</td>\n",
       "      <td>12793.750000</td>\n",
       "      <td>12866.625000</td>\n",
       "      <td>6.099723e+08</td>\n",
       "      <td>3.440096e+11</td>\n",
       "    </tr>\n",
       "    <tr>\n",
       "      <th>75%</th>\n",
       "      <td>13992.300000</td>\n",
       "      <td>14123.425000</td>\n",
       "      <td>13934.662500</td>\n",
       "      <td>14009.362500</td>\n",
       "      <td>7.057664e+08</td>\n",
       "      <td>3.909870e+11</td>\n",
       "    </tr>\n",
       "    <tr>\n",
       "      <th>max</th>\n",
       "      <td>15371.450000</td>\n",
       "      <td>15431.750000</td>\n",
       "      <td>15243.400000</td>\n",
       "      <td>15314.700000</td>\n",
       "      <td>1.371789e+09</td>\n",
       "      <td>7.852293e+11</td>\n",
       "    </tr>\n",
       "  </tbody>\n",
       "</table>\n",
       "</div>"
      ],
      "text/plain": [
       "               Open          High           Low         Close        Volume  \\\n",
       "count    126.000000    126.000000    126.000000    126.000000  1.260000e+02   \n",
       "mean   12923.219444  12987.894048  12819.571032  12913.230556  6.247619e+08   \n",
       "std     1311.361669   1318.252182   1302.971860   1314.725975  1.563274e+08   \n",
       "min    10910.400000  11015.300000  10790.200000  10805.550000  1.078681e+08   \n",
       "25%    11678.650000  11745.350000  11570.575000  11664.087500  5.285029e+08   \n",
       "50%    12883.275000  12955.925000  12793.750000  12866.625000  6.099723e+08   \n",
       "75%    13992.300000  14123.425000  13934.662500  14009.362500  7.057664e+08   \n",
       "max    15371.450000  15431.750000  15243.400000  15314.700000  1.371789e+09   \n",
       "\n",
       "           Turnover  \n",
       "count  1.260000e+02  \n",
       "mean   3.519497e+11  \n",
       "std    8.848450e+10  \n",
       "min    5.189380e+10  \n",
       "25%    2.945594e+11  \n",
       "50%    3.440096e+11  \n",
       "75%    3.909870e+11  \n",
       "max    7.852293e+11  "
      ]
     },
     "execution_count": 7,
     "metadata": {},
     "output_type": "execute_result"
    }
   ],
   "source": [
    "data.describe()"
   ]
  },
  {
   "cell_type": "code",
   "execution_count": 8,
   "metadata": {},
   "outputs": [
    {
     "data": {
      "text/plain": [
       "Open        0\n",
       "High        0\n",
       "Low         0\n",
       "Close       0\n",
       "Volume      0\n",
       "Turnover    0\n",
       "dtype: int64"
      ]
     },
     "execution_count": 8,
     "metadata": {},
     "output_type": "execute_result"
    }
   ],
   "source": [
    "data.isnull().sum()"
   ]
  },
  {
   "cell_type": "code",
   "execution_count": 9,
   "metadata": {},
   "outputs": [],
   "source": [
    "data = data.tail(90+1)"
   ]
  },
  {
   "cell_type": "code",
   "execution_count": 10,
   "metadata": {},
   "outputs": [
    {
     "data": {
      "text/html": [
       "<div>\n",
       "<style scoped>\n",
       "    .dataframe tbody tr th:only-of-type {\n",
       "        vertical-align: middle;\n",
       "    }\n",
       "\n",
       "    .dataframe tbody tr th {\n",
       "        vertical-align: top;\n",
       "    }\n",
       "\n",
       "    .dataframe thead th {\n",
       "        text-align: right;\n",
       "    }\n",
       "</style>\n",
       "<table border=\"1\" class=\"dataframe\">\n",
       "  <thead>\n",
       "    <tr style=\"text-align: right;\">\n",
       "      <th></th>\n",
       "      <th>Open</th>\n",
       "      <th>High</th>\n",
       "      <th>Low</th>\n",
       "      <th>Close</th>\n",
       "      <th>Volume</th>\n",
       "      <th>Turnover</th>\n",
       "    </tr>\n",
       "  </thead>\n",
       "  <tbody>\n",
       "    <tr>\n",
       "      <th>count</th>\n",
       "      <td>91.000000</td>\n",
       "      <td>91.000000</td>\n",
       "      <td>91.000000</td>\n",
       "      <td>91.000000</td>\n",
       "      <td>9.100000e+01</td>\n",
       "      <td>9.100000e+01</td>\n",
       "    </tr>\n",
       "    <tr>\n",
       "      <th>mean</th>\n",
       "      <td>13484.854396</td>\n",
       "      <td>13553.154396</td>\n",
       "      <td>13376.366484</td>\n",
       "      <td>13478.853297</td>\n",
       "      <td>6.226938e+08</td>\n",
       "      <td>3.614590e+11</td>\n",
       "    </tr>\n",
       "    <tr>\n",
       "      <th>std</th>\n",
       "      <td>1105.256885</td>\n",
       "      <td>1110.081141</td>\n",
       "      <td>1099.152345</td>\n",
       "      <td>1102.508003</td>\n",
       "      <td>1.555422e+08</td>\n",
       "      <td>9.287723e+10</td>\n",
       "    </tr>\n",
       "    <tr>\n",
       "      <th>min</th>\n",
       "      <td>11633.300000</td>\n",
       "      <td>11725.650000</td>\n",
       "      <td>11535.450000</td>\n",
       "      <td>11642.400000</td>\n",
       "      <td>1.078681e+08</td>\n",
       "      <td>5.189380e+10</td>\n",
       "    </tr>\n",
       "    <tr>\n",
       "      <th>25%</th>\n",
       "      <td>12691.375000</td>\n",
       "      <td>12755.450000</td>\n",
       "      <td>12616.275000</td>\n",
       "      <td>12734.550000</td>\n",
       "      <td>5.306184e+08</td>\n",
       "      <td>3.043790e+11</td>\n",
       "    </tr>\n",
       "    <tr>\n",
       "      <th>50%</th>\n",
       "      <td>13547.200000</td>\n",
       "      <td>13597.500000</td>\n",
       "      <td>13447.050000</td>\n",
       "      <td>13558.150000</td>\n",
       "      <td>6.186315e+08</td>\n",
       "      <td>3.517592e+11</td>\n",
       "    </tr>\n",
       "    <tr>\n",
       "      <th>75%</th>\n",
       "      <td>14463.550000</td>\n",
       "      <td>14494.650000</td>\n",
       "      <td>14286.825000</td>\n",
       "      <td>14359.575000</td>\n",
       "      <td>7.061619e+08</td>\n",
       "      <td>4.033508e+11</td>\n",
       "    </tr>\n",
       "    <tr>\n",
       "      <th>max</th>\n",
       "      <td>15371.450000</td>\n",
       "      <td>15431.750000</td>\n",
       "      <td>15243.400000</td>\n",
       "      <td>15314.700000</td>\n",
       "      <td>1.162361e+09</td>\n",
       "      <td>7.852293e+11</td>\n",
       "    </tr>\n",
       "  </tbody>\n",
       "</table>\n",
       "</div>"
      ],
      "text/plain": [
       "               Open          High           Low         Close        Volume  \\\n",
       "count     91.000000     91.000000     91.000000     91.000000  9.100000e+01   \n",
       "mean   13484.854396  13553.154396  13376.366484  13478.853297  6.226938e+08   \n",
       "std     1105.256885   1110.081141   1099.152345   1102.508003  1.555422e+08   \n",
       "min    11633.300000  11725.650000  11535.450000  11642.400000  1.078681e+08   \n",
       "25%    12691.375000  12755.450000  12616.275000  12734.550000  5.306184e+08   \n",
       "50%    13547.200000  13597.500000  13447.050000  13558.150000  6.186315e+08   \n",
       "75%    14463.550000  14494.650000  14286.825000  14359.575000  7.061619e+08   \n",
       "max    15371.450000  15431.750000  15243.400000  15314.700000  1.162361e+09   \n",
       "\n",
       "           Turnover  \n",
       "count  9.100000e+01  \n",
       "mean   3.614590e+11  \n",
       "std    9.287723e+10  \n",
       "min    5.189380e+10  \n",
       "25%    3.043790e+11  \n",
       "50%    3.517592e+11  \n",
       "75%    4.033508e+11  \n",
       "max    7.852293e+11  "
      ]
     },
     "execution_count": 10,
     "metadata": {},
     "output_type": "execute_result"
    }
   ],
   "source": [
    "data.describe()"
   ]
  },
  {
   "cell_type": "code",
   "execution_count": 11,
   "metadata": {},
   "outputs": [
    {
     "data": {
      "text/html": [
       "<div>\n",
       "<style scoped>\n",
       "    .dataframe tbody tr th:only-of-type {\n",
       "        vertical-align: middle;\n",
       "    }\n",
       "\n",
       "    .dataframe tbody tr th {\n",
       "        vertical-align: top;\n",
       "    }\n",
       "\n",
       "    .dataframe thead th {\n",
       "        text-align: right;\n",
       "    }\n",
       "</style>\n",
       "<table border=\"1\" class=\"dataframe\">\n",
       "  <thead>\n",
       "    <tr style=\"text-align: right;\">\n",
       "      <th></th>\n",
       "      <th>Open</th>\n",
       "      <th>High</th>\n",
       "      <th>Low</th>\n",
       "      <th>Close</th>\n",
       "      <th>Volume</th>\n",
       "      <th>Turnover</th>\n",
       "    </tr>\n",
       "    <tr>\n",
       "      <th>Date</th>\n",
       "      <th></th>\n",
       "      <th></th>\n",
       "      <th></th>\n",
       "      <th></th>\n",
       "      <th></th>\n",
       "      <th></th>\n",
       "    </tr>\n",
       "  </thead>\n",
       "  <tbody>\n",
       "    <tr>\n",
       "      <th>2021-02-15</th>\n",
       "      <td>15270.30</td>\n",
       "      <td>15340.15</td>\n",
       "      <td>15243.40</td>\n",
       "      <td>15314.70</td>\n",
       "      <td>455959720</td>\n",
       "      <td>2.895529e+11</td>\n",
       "    </tr>\n",
       "    <tr>\n",
       "      <th>2021-02-16</th>\n",
       "      <td>15371.45</td>\n",
       "      <td>15431.75</td>\n",
       "      <td>15242.20</td>\n",
       "      <td>15313.45</td>\n",
       "      <td>648545320</td>\n",
       "      <td>3.655003e+11</td>\n",
       "    </tr>\n",
       "    <tr>\n",
       "      <th>2021-02-17</th>\n",
       "      <td>15279.90</td>\n",
       "      <td>15314.30</td>\n",
       "      <td>15170.75</td>\n",
       "      <td>15208.90</td>\n",
       "      <td>504767226</td>\n",
       "      <td>3.407312e+11</td>\n",
       "    </tr>\n",
       "    <tr>\n",
       "      <th>2021-02-18</th>\n",
       "      <td>15238.70</td>\n",
       "      <td>15250.75</td>\n",
       "      <td>15078.05</td>\n",
       "      <td>15118.95</td>\n",
       "      <td>770629541</td>\n",
       "      <td>3.709399e+11</td>\n",
       "    </tr>\n",
       "    <tr>\n",
       "      <th>2021-02-19</th>\n",
       "      <td>15074.80</td>\n",
       "      <td>15144.05</td>\n",
       "      <td>14898.20</td>\n",
       "      <td>14981.75</td>\n",
       "      <td>712213821</td>\n",
       "      <td>3.741934e+11</td>\n",
       "    </tr>\n",
       "  </tbody>\n",
       "</table>\n",
       "</div>"
      ],
      "text/plain": [
       "                Open      High       Low     Close     Volume      Turnover\n",
       "Date                                                                       \n",
       "2021-02-15  15270.30  15340.15  15243.40  15314.70  455959720  2.895529e+11\n",
       "2021-02-16  15371.45  15431.75  15242.20  15313.45  648545320  3.655003e+11\n",
       "2021-02-17  15279.90  15314.30  15170.75  15208.90  504767226  3.407312e+11\n",
       "2021-02-18  15238.70  15250.75  15078.05  15118.95  770629541  3.709399e+11\n",
       "2021-02-19  15074.80  15144.05  14898.20  14981.75  712213821  3.741934e+11"
      ]
     },
     "execution_count": 11,
     "metadata": {},
     "output_type": "execute_result"
    }
   ],
   "source": [
    "data.tail()"
   ]
  },
  {
   "cell_type": "code",
   "execution_count": 14,
   "metadata": {},
   "outputs": [],
   "source": [
    "data.drop(data.tail(1).index,inplace=True) # drop last n rows"
   ]
  },
  {
   "cell_type": "code",
   "execution_count": 15,
   "metadata": {},
   "outputs": [
    {
     "data": {
      "text/html": [
       "<div>\n",
       "<style scoped>\n",
       "    .dataframe tbody tr th:only-of-type {\n",
       "        vertical-align: middle;\n",
       "    }\n",
       "\n",
       "    .dataframe tbody tr th {\n",
       "        vertical-align: top;\n",
       "    }\n",
       "\n",
       "    .dataframe thead th {\n",
       "        text-align: right;\n",
       "    }\n",
       "</style>\n",
       "<table border=\"1\" class=\"dataframe\">\n",
       "  <thead>\n",
       "    <tr style=\"text-align: right;\">\n",
       "      <th></th>\n",
       "      <th>Open</th>\n",
       "      <th>High</th>\n",
       "      <th>Low</th>\n",
       "      <th>Close</th>\n",
       "      <th>Volume</th>\n",
       "      <th>Turnover</th>\n",
       "    </tr>\n",
       "    <tr>\n",
       "      <th>Date</th>\n",
       "      <th></th>\n",
       "      <th></th>\n",
       "      <th></th>\n",
       "      <th></th>\n",
       "      <th></th>\n",
       "      <th></th>\n",
       "    </tr>\n",
       "  </thead>\n",
       "  <tbody>\n",
       "    <tr>\n",
       "      <th>2021-02-12</th>\n",
       "      <td>15186.20</td>\n",
       "      <td>15243.50</td>\n",
       "      <td>15081.00</td>\n",
       "      <td>15163.30</td>\n",
       "      <td>571808807</td>\n",
       "      <td>3.230424e+11</td>\n",
       "    </tr>\n",
       "    <tr>\n",
       "      <th>2021-02-15</th>\n",
       "      <td>15270.30</td>\n",
       "      <td>15340.15</td>\n",
       "      <td>15243.40</td>\n",
       "      <td>15314.70</td>\n",
       "      <td>455959720</td>\n",
       "      <td>2.895529e+11</td>\n",
       "    </tr>\n",
       "    <tr>\n",
       "      <th>2021-02-16</th>\n",
       "      <td>15371.45</td>\n",
       "      <td>15431.75</td>\n",
       "      <td>15242.20</td>\n",
       "      <td>15313.45</td>\n",
       "      <td>648545320</td>\n",
       "      <td>3.655003e+11</td>\n",
       "    </tr>\n",
       "    <tr>\n",
       "      <th>2021-02-17</th>\n",
       "      <td>15279.90</td>\n",
       "      <td>15314.30</td>\n",
       "      <td>15170.75</td>\n",
       "      <td>15208.90</td>\n",
       "      <td>504767226</td>\n",
       "      <td>3.407312e+11</td>\n",
       "    </tr>\n",
       "    <tr>\n",
       "      <th>2021-02-18</th>\n",
       "      <td>15238.70</td>\n",
       "      <td>15250.75</td>\n",
       "      <td>15078.05</td>\n",
       "      <td>15118.95</td>\n",
       "      <td>770629541</td>\n",
       "      <td>3.709399e+11</td>\n",
       "    </tr>\n",
       "  </tbody>\n",
       "</table>\n",
       "</div>"
      ],
      "text/plain": [
       "                Open      High       Low     Close     Volume      Turnover\n",
       "Date                                                                       \n",
       "2021-02-12  15186.20  15243.50  15081.00  15163.30  571808807  3.230424e+11\n",
       "2021-02-15  15270.30  15340.15  15243.40  15314.70  455959720  2.895529e+11\n",
       "2021-02-16  15371.45  15431.75  15242.20  15313.45  648545320  3.655003e+11\n",
       "2021-02-17  15279.90  15314.30  15170.75  15208.90  504767226  3.407312e+11\n",
       "2021-02-18  15238.70  15250.75  15078.05  15118.95  770629541  3.709399e+11"
      ]
     },
     "execution_count": 15,
     "metadata": {},
     "output_type": "execute_result"
    }
   ],
   "source": [
    "data.tail()"
   ]
  },
  {
   "cell_type": "code",
   "execution_count": 16,
   "metadata": {},
   "outputs": [
    {
     "data": {
      "text/plain": [
       "<matplotlib.axes._subplots.AxesSubplot at 0x7fbbc5f5a250>"
      ]
     },
     "execution_count": 16,
     "metadata": {},
     "output_type": "execute_result"
    },
    {
     "data": {
      "image/png": "[encoded data removed]",
      "text/plain": [
       "<Figure size 1152x648 with 1 Axes>"
      ]
     },
     "metadata": {
      "needs_background": "light"
     },
     "output_type": "display_data"
    }
   ],
   "source": [
    "data['Close'].plot(figsize=(16,9))"
   ]
  },
  {
   "cell_type": "code",
   "execution_count": 17,
   "metadata": {},
   "outputs": [],
   "source": [
    "data.drop(columns=['Turnover'], inplace = True)"
   ]
  },
  {
   "cell_type": "code",
   "execution_count": 18,
   "metadata": {},
   "outputs": [
    {
     "data": {
      "text/html": [
       "<div>\n",
       "<style scoped>\n",
       "    .dataframe tbody tr th:only-of-type {\n",
       "        vertical-align: middle;\n",
       "    }\n",
       "\n",
       "    .dataframe tbody tr th {\n",
       "        vertical-align: top;\n",
       "    }\n",
       "\n",
       "    .dataframe thead th {\n",
       "        text-align: right;\n",
       "    }\n",
       "</style>\n",
       "<table border=\"1\" class=\"dataframe\">\n",
       "  <thead>\n",
       "    <tr style=\"text-align: right;\">\n",
       "      <th></th>\n",
       "      <th>Open</th>\n",
       "      <th>High</th>\n",
       "      <th>Low</th>\n",
       "      <th>Close</th>\n",
       "      <th>Volume</th>\n",
       "    </tr>\n",
       "    <tr>\n",
       "      <th>Date</th>\n",
       "      <th></th>\n",
       "      <th></th>\n",
       "      <th></th>\n",
       "      <th></th>\n",
       "      <th></th>\n",
       "    </tr>\n",
       "  </thead>\n",
       "  <tbody>\n",
       "    <tr>\n",
       "      <th>2020-10-13</th>\n",
       "      <td>11934.65</td>\n",
       "      <td>11988.20</td>\n",
       "      <td>11888.90</td>\n",
       "      <td>11934.50</td>\n",
       "      <td>458304851</td>\n",
       "    </tr>\n",
       "    <tr>\n",
       "      <th>2020-10-14</th>\n",
       "      <td>11917.40</td>\n",
       "      <td>11997.20</td>\n",
       "      <td>11822.15</td>\n",
       "      <td>11971.05</td>\n",
       "      <td>569245407</td>\n",
       "    </tr>\n",
       "    <tr>\n",
       "      <th>2020-10-15</th>\n",
       "      <td>12023.45</td>\n",
       "      <td>12025.45</td>\n",
       "      <td>11661.30</td>\n",
       "      <td>11680.35</td>\n",
       "      <td>608865041</td>\n",
       "    </tr>\n",
       "    <tr>\n",
       "      <th>2020-10-16</th>\n",
       "      <td>11727.40</td>\n",
       "      <td>11789.75</td>\n",
       "      <td>11667.85</td>\n",
       "      <td>11762.45</td>\n",
       "      <td>555764762</td>\n",
       "    </tr>\n",
       "    <tr>\n",
       "      <th>2020-10-19</th>\n",
       "      <td>11879.20</td>\n",
       "      <td>11898.25</td>\n",
       "      <td>11820.40</td>\n",
       "      <td>11873.05</td>\n",
       "      <td>541420990</td>\n",
       "    </tr>\n",
       "  </tbody>\n",
       "</table>\n",
       "</div>"
      ],
      "text/plain": [
       "                Open      High       Low     Close     Volume\n",
       "Date                                                         \n",
       "2020-10-13  11934.65  11988.20  11888.90  11934.50  458304851\n",
       "2020-10-14  11917.40  11997.20  11822.15  11971.05  569245407\n",
       "2020-10-15  12023.45  12025.45  11661.30  11680.35  608865041\n",
       "2020-10-16  11727.40  11789.75  11667.85  11762.45  555764762\n",
       "2020-10-19  11879.20  11898.25  11820.40  11873.05  541420990"
      ]
     },
     "execution_count": 18,
     "metadata": {},
     "output_type": "execute_result"
    }
   ],
   "source": [
    "data.head()"
   ]
  },
  {
   "cell_type": "code",
   "execution_count": 19,
   "metadata": {},
   "outputs": [],
   "source": [
    "import joblib\n",
    "sc = joblib.load('scaler.gz')"
   ]
  },
  {
   "cell_type": "code",
   "execution_count": 20,
   "metadata": {},
   "outputs": [],
   "source": [
    "training_set_scaled = sc.transform(data[['Open', 'High', 'Low', 'Close', 'Volume']])"
   ]
  },
  {
   "cell_type": "code",
   "execution_count": 21,
   "metadata": {},
   "outputs": [
    {
     "data": {
      "text/plain": [
       "90"
      ]
     },
     "execution_count": 21,
     "metadata": {},
     "output_type": "execute_result"
    }
   ],
   "source": [
    "len(training_set_scaled)"
   ]
  },
  {
   "cell_type": "code",
   "execution_count": 22,
   "metadata": {},
   "outputs": [],
   "source": [
    "model = tf.keras.models.load_model('my_h5_model.h5')"
   ]
  },
  {
   "cell_type": "code",
   "execution_count": 23,
   "metadata": {},
   "outputs": [
    {
     "name": "stdout",
     "output_type": "stream",
     "text": [
      "Model: \"sequential\"\n",
      "_________________________________________________________________\n",
      "Layer (type)                 Output Shape              Param #   \n",
      "=================================================================\n",
      "lstm (LSTM)                  (None, 90, 50)            11200     \n",
      "_________________________________________________________________\n",
      "dropout (Dropout)            (None, 90, 50)            0         \n",
      "_________________________________________________________________\n",
      "lstm_1 (LSTM)                (None, 90, 50)            20200     \n",
      "_________________________________________________________________\n",
      "dropout_1 (Dropout)          (None, 90, 50)            0         \n",
      "_________________________________________________________________\n",
      "lstm_2 (LSTM)                (None, 90, 50)            20200     \n",
      "_________________________________________________________________\n",
      "dropout_2 (Dropout)          (None, 90, 50)            0         \n",
      "_________________________________________________________________\n",
      "lstm_3 (LSTM)                (None, 50)                20200     \n",
      "_________________________________________________________________\n",
      "dropout_3 (Dropout)          (None, 50)                0         \n",
      "_________________________________________________________________\n",
      "dense (Dense)                (None, 3)                 153       \n",
      "=================================================================\n",
      "Total params: 71,953\n",
      "Trainable params: 71,953\n",
      "Non-trainable params: 0\n",
      "_________________________________________________________________\n"
     ]
    }
   ],
   "source": [
    "model.summary()"
   ]
  },
  {
   "cell_type": "code",
   "execution_count": 27,
   "metadata": {},
   "outputs": [
    {
     "data": {
      "text/plain": [
       "(90, 5)"
      ]
     },
     "execution_count": 27,
     "metadata": {},
     "output_type": "execute_result"
    }
   ],
   "source": [
    "training_set_scaled.shape"
   ]
  },
  {
   "cell_type": "code",
   "execution_count": 28,
   "metadata": {},
   "outputs": [],
   "source": [
    "training_set_scaled = np.expand_dims(training_set_scaled, axis=0)"
   ]
  },
  {
   "cell_type": "code",
   "execution_count": 29,
   "metadata": {},
   "outputs": [
    {
     "data": {
      "text/plain": [
       "(1, 90, 5)"
      ]
     },
     "execution_count": 29,
     "metadata": {},
     "output_type": "execute_result"
    }
   ],
   "source": [
    "training_set_scaled.shape"
   ]
  },
  {
   "cell_type": "code",
   "execution_count": 30,
   "metadata": {},
   "outputs": [],
   "source": [
    "score = model.predict(training_set_scaled)"
   ]
  },
  {
   "cell_type": "code",
   "execution_count": 37,
   "metadata": {},
   "outputs": [
    {
     "data": {
      "text/plain": [
       "0.99999994"
      ]
     },
     "execution_count": 37,
     "metadata": {},
     "output_type": "execute_result"
    }
   ],
   "source": [
    "score.sum()"
   ]
  },
  {
   "cell_type": "code",
   "execution_count": 50,
   "metadata": {},
   "outputs": [
    {
     "name": "stdout",
     "output_type": "stream",
     "text": [
      "[[0.001 0.998 0.001]]\n"
     ]
    }
   ],
   "source": [
    "np.set_printoptions(suppress=True)\n",
    "print(score)"
   ]
  },
  {
   "cell_type": "markdown",
   "metadata": {},
   "source": [
    "If first number is big, market will go up by 3%\n",
    "\n",
    "If middle number is big, market will go down by 3%\n",
    "\n",
    "If last number is big, market will not move up or down by 3%"
   ]
  },
  {
   "cell_type": "code",
   "execution_count": null,
   "metadata": {},
   "outputs": [],
   "source": []
  }
 ],
 "metadata": {
  "kernelspec": {
   "display_name": "Python 3",
   "language": "python",
   "name": "python3"
  },
  "language_info": {
   "codemirror_mode": {
    "name": "ipython",
    "version": 3
   },
   "file_extension": ".py",
   "mimetype": "text/x-python",
   "name": "python",
   "nbconvert_exporter": "python",
   "pygments_lexer": "ipython3",
   "version": "3.8.5"
  }
 },
 "nbformat": 4,
 "nbformat_minor": 4
}
